{
 "cells": [
  {
   "cell_type": "markdown",
   "metadata": {},
   "source": [
    "# Latent Dirichlet Allocation"
   ]
  },
  {
   "cell_type": "markdown",
   "metadata": {},
   "source": [
    "LDA && LDA : There are two methods in machine learning with the initials LDA:\n",
    "- latent Dirichlet allocation, which is a topic modeling method.\n",
    "- linear discriminant analysis, which is a classification method."
   ]
  },
  {
   "cell_type": "markdown",
   "metadata": {},
   "source": [
    "They are completely unrelated. this can be a little confusing. Scikit-learn has a submodule, sklearn.lda, which implements linear discriminant analysis. Scikit-learn does not implement latent Dirichlet allocation. The simplest topic model is latent dirichlet allocation(LDA)."
   ]
  },
  {
   "cell_type": "markdown",
   "metadata": {},
   "source": [
    "# Building a topic model"
   ]
  },
  {
   "cell_type": "markdown",
   "metadata": {},
   "source": [
    "we are going to use the gensim package in Python. "
   ]
  },
  {
   "cell_type": "code",
   "execution_count": 1,
   "metadata": {
    "collapsed": false,
    "scrolled": true
   },
   "outputs": [
    {
     "name": "stderr",
     "output_type": "stream",
     "text": [
      "/home/zpgao/anaconda2/lib/python2.7/site-packages/mpltools-0.2.0-py2.7.egg/mpltools/style/__init__.py:42: FutureWarning: \n",
      "\n",
      "    The style-sheet functionality in mpltools has been integrated into\n",
      "    Matplotlib >= 1.4. This module will be removed in a future release.\n",
      "\n",
      "    Note that style-sheets used by `matplotlib.style` use the standard\n",
      "    Matplotlib rc-file syntax instead of the INI format used by `mpltools`.\n",
      "    This mostly means un-quoting strings and changing '=' to ':'.\n",
      "\n",
      "\n",
      "  \"\"\", FutureWarning)\n",
      "/home/zpgao/anaconda2/lib/python2.7/site-packages/matplotlib/__init__.py:872: UserWarning: axes.color_cycle is deprecated and replaced with axes.prop_cycle; please use the latter.\n",
      "  warnings.warn(self.msg_depr % (key, alt_key))\n"
     ]
    }
   ],
   "source": [
    "from __future__ import print_function\n",
    "from gensim import corpora, models, similarities\n",
    "from mpltools import style\n",
    "import matplotlib.pylab as plt\n",
    "import numpy as np\n",
    "from os import path\n",
    "style.use('ggplot')\n",
    "\n",
    "#if not path.exists('../Building_ML_System/1400OS_04_Codes/data/'):\n",
    "#    print 'Error : Expected data not exist'"
   ]
  },
  {
   "cell_type": "code",
   "execution_count": 2,
   "metadata": {
    "collapsed": false
   },
   "outputs": [
    {
     "name": "stderr",
     "output_type": "stream",
     "text": [
      "WARNING:gensim.models.ldamodel:too few updates, training might not converge; consider increasing the number of passes or iterations to improve accuracy\n"
     ]
    }
   ],
   "source": [
    "# Corpus is just the preloaded list of words\n",
    "corpus = corpora.BleiCorpus('../Building_ML_System/1400OS_04_Codes/data/ap/ap.dat', \n",
    "                            '../Building_ML_System/1400OS_04_Codes/data/ap/vocab.txt')\n",
    "# This steip will build a topic model\n",
    "model = models.ldamodel.LdaModel(\n",
    "    corpus, \n",
    "    num_topics=100, \n",
    "    id2word=corpus.id2word, \n",
    "    alpha=None)"
   ]
  },
  {
   "cell_type": "code",
   "execution_count": 12,
   "metadata": {
    "collapsed": false
   },
   "outputs": [],
   "source": [
    "# explore the topics \n",
    "topics = [model[c] for c in corpus]"
   ]
  },
  {
   "cell_type": "code",
   "execution_count": 9,
   "metadata": {
    "collapsed": false
   },
   "outputs": [
    {
     "data": {
      "text/plain": [
       "<matplotlib.text.Text at 0x7fef4aa3d4d0>"
      ]
     },
     "execution_count": 9,
     "metadata": {},
     "output_type": "execute_result"
    },
    {
     "data": {
      "image/png": "[encoded data removed]",
      "text/plain": [
       "<matplotlib.figure.Figure at 0x7fef540076d0>"
      ]
     },
     "metadata": {},
     "output_type": "display_data"
    }
   ],
   "source": [
    "%matplotlib inline\n",
    "#print topics[0]\n",
    "thetas = [model[c] for c in corpus]\n",
    "plt.hist([len(t) for t in thetas], np.arange(42))\n",
    "plt.ylabel('Nr of documents')\n",
    "plt.xlabel('Nr of topics')\n",
    "#plt.savefig('../1400OS_04_01+.png')"
   ]
  },
  {
   "cell_type": "code",
   "execution_count": 10,
   "metadata": {
    "collapsed": false
   },
   "outputs": [
    {
     "name": "stderr",
     "output_type": "stream",
     "text": [
      "WARNING:gensim.models.ldamodel:too few updates, training might not converge; consider increasing the number of passes or iterations to improve accuracy\n"
     ]
    },
    {
     "data": {
      "text/plain": [
       "<matplotlib.text.Text at 0x7fef4a315e50>"
      ]
     },
     "execution_count": 10,
     "metadata": {},
     "output_type": "execute_result"
    },
    {
     "data": {
      "image/png": "[encoded data removed]",
      "text/plain": [
       "<matplotlib.figure.Figure at 0x7fef4a9f9890>"
      ]
     },
     "metadata": {},
     "output_type": "display_data"
    }
   ],
   "source": [
    "model1 = models.ldamodel.LdaModel(corpus, num_topics=100, id2word=corpus.id2word, alpha=1.)\n",
    "thetas1 = [model1[c] for c in corpus]\n",
    "\n",
    "#model8 = models.ldamodel.LdaModel(corpus, num_topics=100, id2word=corpus.id2word, alpha=1.e-8)\n",
    "#thetas8 = [model8[c] for c in corpus]\n",
    "plt.clf()\n",
    "plt.hist([[len(t) for t in thetas], [len(t) for t in thetas1]], np.arange(42))\n",
    "plt.ylabel('Nr of documents')\n",
    "plt.xlabel('Nr of topics')\n",
    "plt.text(9,223, r'default alpha')\n",
    "plt.text(26,156, 'alpha=1.0')\n",
    "#plt.savefig('../1400OS_04_02+.png')"
   ]
  },
  {
   "cell_type": "markdown",
   "metadata": {
    "collapsed": true
   },
   "source": [
    "Sparsity means that while you may have large matrices and vectors, in principe most of the values are 0. "
   ]
  },
  {
   "cell_type": "markdown",
   "metadata": {
    "collapsed": true
   },
   "source": [
    "In the previous graph, we see that 150 documents have 5 topics, while the majority deal with around 10-12. To large extent, this is a function of the alpha parameter used. The bigger values for alpha will result in more topics per document. Apha needs to be positive, but is typically very small usually < 1."
   ]
  },
  {
   "cell_type": "markdown",
   "metadata": {},
   "source": [
    "## what are these topics ?"
   ]
  },
  {
   "cell_type": "markdown",
   "metadata": {},
   "source": [
    "Technically, topics are multinomial distributions over words, which means that the give each word in the vocabulary a probability, Words with high probability are more associated with that topic than words with lower probability."
   ]
  },
  {
   "cell_type": "markdown",
   "metadata": {},
   "source": [
    "IN topic modeling, it is important to filter out stop words, as otherwise you might end up with a topic consisting entierly of stop words, which is not very informative. We may also wish to preprocess the text to stems in order to normalize plurals and verv forms."
   ]
  },
  {
   "cell_type": "markdown",
   "metadata": {},
   "source": [
    "# Comparing similarity in topic level"
   ]
  },
  {
   "cell_type": "markdown",
   "metadata": {},
   "source": [
    "NOW that we can have an estimate for each document about how much that document comes from each topic. we can compare the documents in topic level. This means that instead of comparing word per word, we say that two documents are similar if they talk about the same topics. This can be very powerful as tow documents that share a few words may actually refer to the same topic. "
   ]
  },
  {
   "cell_type": "markdown",
   "metadata": {},
   "source": [
    "Previously we compared tow documents by comparing their word vectors, we can now compare tow documents by comparing their topic vectors."
   ]
  },
  {
   "cell_type": "markdown",
   "metadata": {},
   "source": [
    "For this we are going to project the documents to the topic space. That is we want to have a vector of topics that summarizes the document. Since the number of topics(100) is smaller than the number of possible word(tf-idf words), this means that we have reduced dimensionality. Dimensionality reduction is another task of machine learning. One additional computational advantage is that topic model is much faster to compare 100 vectors of topic weights than vectors of the size of the vocabulary(thousands of terms)."
   ]
  },
  {
   "cell_type": "code",
   "execution_count": 14,
   "metadata": {
    "collapsed": true
   },
   "outputs": [],
   "source": [
    "topics = [model[c] for c in corpus]"
   ]
  },
  {
   "cell_type": "code",
   "execution_count": 23,
   "metadata": {
    "collapsed": false
   },
   "outputs": [],
   "source": [
    "#print topics[0]\n",
    "dense = np.zeros( ( len(topics), 100) , float)\n",
    "for ti, i in enumerate(topics):\n",
    "    for tj,v in t:\n",
    "        dense[ti, tj] = v\n",
    "\n",
    "from scipy.spatial import distance\n",
    "pairwise = distance.squareform(distance.pdist(dense))"
   ]
  },
  {
   "cell_type": "code",
   "execution_count": 24,
   "metadata": {
    "collapsed": false
   },
   "outputs": [],
   "source": [
    "largest = pairwise.max()"
   ]
  },
  {
   "cell_type": "code",
   "execution_count": 25,
   "metadata": {
    "collapsed": true
   },
   "outputs": [],
   "source": [
    "for ti in range(len(topics)):\n",
    "    pairiwise[ti, ti] = largest + 1"
   ]
  },
  {
   "cell_type": "code",
   "execution_count": 26,
   "metadata": {
    "collapsed": true
   },
   "outputs": [],
   "source": [
    "def closest_to(doc_id):\n",
    "    return pairiwise[doc_id].argmin()"
   ]
  },
  {
   "cell_type": "code",
   "execution_count": 30,
   "metadata": {
    "collapsed": false
   },
   "outputs": [
    {
     "data": {
      "text/plain": [
       "0"
      ]
     },
     "execution_count": 30,
     "metadata": {},
     "output_type": "execute_result"
    }
   ],
   "source": [
    "closest_to(2)"
   ]
  },
  {
   "cell_type": "markdown",
   "metadata": {},
   "source": [
    "# Choosing the number of topics"
   ]
  },
  {
   "cell_type": "markdown",
   "metadata": {},
   "source": [
    "we have fixed number of topics = 100. This was an aritray number we could also set to 20 / 2000 topics. Fortunately, for many users, this number does not really matter. If you are going to only use the topics as an intermediate step, the final behavior of the system is rarely very sensitive to the exact number of topics. This means that as long as you use enough topics, whether you use 100 topics or 200 topics, The recommendations that result from the process will not be very different."
   ]
  },
  {
   "cell_type": "markdown",
   "metadata": {},
   "source": [
    "one of the methods for autmatically determining the number of topics is called hierarchical Dirichlet process (HDP), and it is available in gensim."
   ]
  },
  {
   "cell_type": "code",
   "execution_count": null,
   "metadata": {
    "collapsed": true
   },
   "outputs": [],
   "source": []
  }
 ],
 "metadata": {
  "kernelspec": {
   "display_name": "Python 2",
   "language": "python",
   "name": "python2"
  },
  "language_info": {
   "codemirror_mode": {
    "name": "ipython",
    "version": 2
   },
   "file_extension": ".py",
   "mimetype": "text/x-python",
   "name": "python",
   "nbconvert_exporter": "python",
   "pygments_lexer": "ipython2",
   "version": "2.7.11"
  }
 },
 "nbformat": 4,
 "nbformat_minor": 0
}
